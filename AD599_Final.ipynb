{
 "cells": [
  {
   "cell_type": "code",
   "execution_count": 1,
   "metadata": {
    "pycharm": {
     "name": "#%%\n"
    }
   },
   "outputs": [
    {
     "name": "stdout",
     "output_type": "stream",
     "text": [
      "连接成功\n"
     ]
    },
    {
     "data": {
      "text/plain": "   EmployeeId LastName FirstName                Title  ReportsTo  \\\n0           1    Adams    Andrew      General Manager        NaN   \n1           2  Edwards     Nancy        Sales Manager        1.0   \n2           3  Peacock      Jane  Sales Support Agent        2.0   \n3           4     Park  Margaret  Sales Support Agent        2.0   \n4           5  Johnson     Steve  Sales Support Agent        2.0   \n\n             BirthDate             HireDate              Address      City  \\\n0  1962-02-18 00:00:00  2002-08-14 00:00:00  11120 Jasper Ave NW  Edmonton   \n1  1958-12-08 00:00:00  2002-05-01 00:00:00         825 8 Ave SW   Calgary   \n2  1973-08-29 00:00:00  2002-04-01 00:00:00        1111 6 Ave SW   Calgary   \n3  1947-09-19 00:00:00  2003-05-03 00:00:00     683 10 Street SW   Calgary   \n4  1965-03-03 00:00:00  2003-10-17 00:00:00         7727B 41 Ave   Calgary   \n\n  State Country PostalCode              Phone                Fax  \\\n0    AB  Canada    T5K 2N1  +1 (780) 428-9482  +1 (780) 428-3457   \n1    AB  Canada    T2P 2T3  +1 (403) 262-3443  +1 (403) 262-3322   \n2    AB  Canada    T2P 5M5  +1 (403) 262-3443  +1 (403) 262-6712   \n3    AB  Canada    T2P 5G3  +1 (403) 263-4423  +1 (403) 263-4289   \n4    AB  Canada    T3B 1Y7   1 (780) 836-9987   1 (780) 836-9543   \n\n                      Email  \n0    andrew@chinookcorp.com  \n1     nancy@chinookcorp.com  \n2      jane@chinookcorp.com  \n3  margaret@chinookcorp.com  \n4     steve@chinookcorp.com  ",
      "text/html": "<div>\n<style scoped>\n    .dataframe tbody tr th:only-of-type {\n        vertical-align: middle;\n    }\n\n    .dataframe tbody tr th {\n        vertical-align: top;\n    }\n\n    .dataframe thead th {\n        text-align: right;\n    }\n</style>\n<table border=\"1\" class=\"dataframe\">\n  <thead>\n    <tr style=\"text-align: right;\">\n      <th></th>\n      <th>EmployeeId</th>\n      <th>LastName</th>\n      <th>FirstName</th>\n      <th>Title</th>\n      <th>ReportsTo</th>\n      <th>BirthDate</th>\n      <th>HireDate</th>\n      <th>Address</th>\n      <th>City</th>\n      <th>State</th>\n      <th>Country</th>\n      <th>PostalCode</th>\n      <th>Phone</th>\n      <th>Fax</th>\n      <th>Email</th>\n    </tr>\n  </thead>\n  <tbody>\n    <tr>\n      <th>0</th>\n      <td>1</td>\n      <td>Adams</td>\n      <td>Andrew</td>\n      <td>General Manager</td>\n      <td>NaN</td>\n      <td>1962-02-18 00:00:00</td>\n      <td>2002-08-14 00:00:00</td>\n      <td>11120 Jasper Ave NW</td>\n      <td>Edmonton</td>\n      <td>AB</td>\n      <td>Canada</td>\n      <td>T5K 2N1</td>\n      <td>+1 (780) 428-9482</td>\n      <td>+1 (780) 428-3457</td>\n      <td>andrew@chinookcorp.com</td>\n    </tr>\n    <tr>\n      <th>1</th>\n      <td>2</td>\n      <td>Edwards</td>\n      <td>Nancy</td>\n      <td>Sales Manager</td>\n      <td>1.0</td>\n      <td>1958-12-08 00:00:00</td>\n      <td>2002-05-01 00:00:00</td>\n      <td>825 8 Ave SW</td>\n      <td>Calgary</td>\n      <td>AB</td>\n      <td>Canada</td>\n      <td>T2P 2T3</td>\n      <td>+1 (403) 262-3443</td>\n      <td>+1 (403) 262-3322</td>\n      <td>nancy@chinookcorp.com</td>\n    </tr>\n    <tr>\n      <th>2</th>\n      <td>3</td>\n      <td>Peacock</td>\n      <td>Jane</td>\n      <td>Sales Support Agent</td>\n      <td>2.0</td>\n      <td>1973-08-29 00:00:00</td>\n      <td>2002-04-01 00:00:00</td>\n      <td>1111 6 Ave SW</td>\n      <td>Calgary</td>\n      <td>AB</td>\n      <td>Canada</td>\n      <td>T2P 5M5</td>\n      <td>+1 (403) 262-3443</td>\n      <td>+1 (403) 262-6712</td>\n      <td>jane@chinookcorp.com</td>\n    </tr>\n    <tr>\n      <th>3</th>\n      <td>4</td>\n      <td>Park</td>\n      <td>Margaret</td>\n      <td>Sales Support Agent</td>\n      <td>2.0</td>\n      <td>1947-09-19 00:00:00</td>\n      <td>2003-05-03 00:00:00</td>\n      <td>683 10 Street SW</td>\n      <td>Calgary</td>\n      <td>AB</td>\n      <td>Canada</td>\n      <td>T2P 5G3</td>\n      <td>+1 (403) 263-4423</td>\n      <td>+1 (403) 263-4289</td>\n      <td>margaret@chinookcorp.com</td>\n    </tr>\n    <tr>\n      <th>4</th>\n      <td>5</td>\n      <td>Johnson</td>\n      <td>Steve</td>\n      <td>Sales Support Agent</td>\n      <td>2.0</td>\n      <td>1965-03-03 00:00:00</td>\n      <td>2003-10-17 00:00:00</td>\n      <td>7727B 41 Ave</td>\n      <td>Calgary</td>\n      <td>AB</td>\n      <td>Canada</td>\n      <td>T3B 1Y7</td>\n      <td>1 (780) 836-9987</td>\n      <td>1 (780) 836-9543</td>\n      <td>steve@chinookcorp.com</td>\n    </tr>\n  </tbody>\n</table>\n</div>"
     },
     "execution_count": 1,
     "metadata": {},
     "output_type": "execute_result"
    }
   ],
   "source": [
    "#将数据库数据导入为dataframe\n",
    "import matplotlib.pyplot as plt\n",
    "import pandas as pd\n",
    "import sqlite3\n",
    "import warnings\n",
    "warnings.filterwarnings('ignore')\n",
    "%matplotlib inline\n",
    "\n",
    "connect = sqlite3.connect('D:\\sqlite\\db\\chinook.db')\n",
    "print(\"连接成功\")\n",
    "employees_data = pd.read_sql(\"SELECT *  from employees\", con=connect)\n",
    "employees_data.head()\n",
    "#查看读取的结果"
   ]
  },
  {
   "cell_type": "code",
   "execution_count": 2,
   "metadata": {
    "pycharm": {
     "name": "#%%\n"
    }
   },
   "outputs": [
    {
     "data": {
      "text/plain": "   CustomerId  FirstName     LastName  \\\n0           1       Luís    Gonçalves   \n1           2     Leonie       Köhler   \n2           3   François     Tremblay   \n3           4      Bjørn       Hansen   \n4           5  František  Wichterlová   \n\n                                            Company  \\\n0  Embraer - Empresa Brasileira de Aeronáutica S.A.   \n1                                              None   \n2                                              None   \n3                                              None   \n4                                  JetBrains s.r.o.   \n\n                           Address                 City State         Country  \\\n0  Av. Brigadeiro Faria Lima, 2170  São José dos Campos    SP          Brazil   \n1          Theodor-Heuss-Straße 34            Stuttgart  None         Germany   \n2                1498 rue Bélanger             Montréal    QC          Canada   \n3                 Ullevålsveien 14                 Oslo  None          Norway   \n4                    Klanova 9/506               Prague  None  Czech Republic   \n\n  PostalCode               Phone                 Fax  \\\n0  12227-000  +55 (12) 3923-5555  +55 (12) 3923-5566   \n1      70174    +49 0711 2842222                None   \n2    H2G 1A7   +1 (514) 721-4711                None   \n3       0171     +47 22 44 22 22                None   \n4      14700    +420 2 4172 5555    +420 2 4172 5555   \n\n                      Email  SupportRepId  \n0      luisg@embraer.com.br             3  \n1     leonekohler@surfeu.de             5  \n2       ftremblay@gmail.com             3  \n3     bjorn.hansen@yahoo.no             4  \n4  frantisekw@jetbrains.com             4  ",
      "text/html": "<div>\n<style scoped>\n    .dataframe tbody tr th:only-of-type {\n        vertical-align: middle;\n    }\n\n    .dataframe tbody tr th {\n        vertical-align: top;\n    }\n\n    .dataframe thead th {\n        text-align: right;\n    }\n</style>\n<table border=\"1\" class=\"dataframe\">\n  <thead>\n    <tr style=\"text-align: right;\">\n      <th></th>\n      <th>CustomerId</th>\n      <th>FirstName</th>\n      <th>LastName</th>\n      <th>Company</th>\n      <th>Address</th>\n      <th>City</th>\n      <th>State</th>\n      <th>Country</th>\n      <th>PostalCode</th>\n      <th>Phone</th>\n      <th>Fax</th>\n      <th>Email</th>\n      <th>SupportRepId</th>\n    </tr>\n  </thead>\n  <tbody>\n    <tr>\n      <th>0</th>\n      <td>1</td>\n      <td>Luís</td>\n      <td>Gonçalves</td>\n      <td>Embraer - Empresa Brasileira de Aeronáutica S.A.</td>\n      <td>Av. Brigadeiro Faria Lima, 2170</td>\n      <td>São José dos Campos</td>\n      <td>SP</td>\n      <td>Brazil</td>\n      <td>12227-000</td>\n      <td>+55 (12) 3923-5555</td>\n      <td>+55 (12) 3923-5566</td>\n      <td>luisg@embraer.com.br</td>\n      <td>3</td>\n    </tr>\n    <tr>\n      <th>1</th>\n      <td>2</td>\n      <td>Leonie</td>\n      <td>Köhler</td>\n      <td>None</td>\n      <td>Theodor-Heuss-Straße 34</td>\n      <td>Stuttgart</td>\n      <td>None</td>\n      <td>Germany</td>\n      <td>70174</td>\n      <td>+49 0711 2842222</td>\n      <td>None</td>\n      <td>leonekohler@surfeu.de</td>\n      <td>5</td>\n    </tr>\n    <tr>\n      <th>2</th>\n      <td>3</td>\n      <td>François</td>\n      <td>Tremblay</td>\n      <td>None</td>\n      <td>1498 rue Bélanger</td>\n      <td>Montréal</td>\n      <td>QC</td>\n      <td>Canada</td>\n      <td>H2G 1A7</td>\n      <td>+1 (514) 721-4711</td>\n      <td>None</td>\n      <td>ftremblay@gmail.com</td>\n      <td>3</td>\n    </tr>\n    <tr>\n      <th>3</th>\n      <td>4</td>\n      <td>Bjørn</td>\n      <td>Hansen</td>\n      <td>None</td>\n      <td>Ullevålsveien 14</td>\n      <td>Oslo</td>\n      <td>None</td>\n      <td>Norway</td>\n      <td>0171</td>\n      <td>+47 22 44 22 22</td>\n      <td>None</td>\n      <td>bjorn.hansen@yahoo.no</td>\n      <td>4</td>\n    </tr>\n    <tr>\n      <th>4</th>\n      <td>5</td>\n      <td>František</td>\n      <td>Wichterlová</td>\n      <td>JetBrains s.r.o.</td>\n      <td>Klanova 9/506</td>\n      <td>Prague</td>\n      <td>None</td>\n      <td>Czech Republic</td>\n      <td>14700</td>\n      <td>+420 2 4172 5555</td>\n      <td>+420 2 4172 5555</td>\n      <td>frantisekw@jetbrains.com</td>\n      <td>4</td>\n    </tr>\n  </tbody>\n</table>\n</div>"
     },
     "execution_count": 2,
     "metadata": {},
     "output_type": "execute_result"
    }
   ],
   "source": [
    "customers_data = pd.read_sql(\"SELECT *  from customers\", con=connect)\n",
    "customers_data.head()"
   ]
  },
  {
   "cell_type": "code",
   "execution_count": 3,
   "metadata": {
    "pycharm": {
     "name": "#%%\n"
    }
   },
   "outputs": [
    {
     "data": {
      "text/plain": "   InvoiceId  CustomerId          InvoiceDate           BillingAddress  \\\n0          1           2  2009-01-01 00:00:00  Theodor-Heuss-Straße 34   \n1          2           4  2009-01-02 00:00:00         Ullevålsveien 14   \n2          3           8  2009-01-03 00:00:00          Grétrystraat 63   \n3          4          14  2009-01-06 00:00:00           8210 111 ST NW   \n4          5          23  2009-01-11 00:00:00          69 Salem Street   \n\n  BillingCity BillingState BillingCountry BillingPostalCode  Total  \n0   Stuttgart         None        Germany             70174   1.98  \n1        Oslo         None         Norway              0171   3.96  \n2    Brussels         None        Belgium              1000   5.94  \n3    Edmonton           AB         Canada           T6G 2C7   8.91  \n4      Boston           MA            USA              2113  13.86  ",
      "text/html": "<div>\n<style scoped>\n    .dataframe tbody tr th:only-of-type {\n        vertical-align: middle;\n    }\n\n    .dataframe tbody tr th {\n        vertical-align: top;\n    }\n\n    .dataframe thead th {\n        text-align: right;\n    }\n</style>\n<table border=\"1\" class=\"dataframe\">\n  <thead>\n    <tr style=\"text-align: right;\">\n      <th></th>\n      <th>InvoiceId</th>\n      <th>CustomerId</th>\n      <th>InvoiceDate</th>\n      <th>BillingAddress</th>\n      <th>BillingCity</th>\n      <th>BillingState</th>\n      <th>BillingCountry</th>\n      <th>BillingPostalCode</th>\n      <th>Total</th>\n    </tr>\n  </thead>\n  <tbody>\n    <tr>\n      <th>0</th>\n      <td>1</td>\n      <td>2</td>\n      <td>2009-01-01 00:00:00</td>\n      <td>Theodor-Heuss-Straße 34</td>\n      <td>Stuttgart</td>\n      <td>None</td>\n      <td>Germany</td>\n      <td>70174</td>\n      <td>1.98</td>\n    </tr>\n    <tr>\n      <th>1</th>\n      <td>2</td>\n      <td>4</td>\n      <td>2009-01-02 00:00:00</td>\n      <td>Ullevålsveien 14</td>\n      <td>Oslo</td>\n      <td>None</td>\n      <td>Norway</td>\n      <td>0171</td>\n      <td>3.96</td>\n    </tr>\n    <tr>\n      <th>2</th>\n      <td>3</td>\n      <td>8</td>\n      <td>2009-01-03 00:00:00</td>\n      <td>Grétrystraat 63</td>\n      <td>Brussels</td>\n      <td>None</td>\n      <td>Belgium</td>\n      <td>1000</td>\n      <td>5.94</td>\n    </tr>\n    <tr>\n      <th>3</th>\n      <td>4</td>\n      <td>14</td>\n      <td>2009-01-06 00:00:00</td>\n      <td>8210 111 ST NW</td>\n      <td>Edmonton</td>\n      <td>AB</td>\n      <td>Canada</td>\n      <td>T6G 2C7</td>\n      <td>8.91</td>\n    </tr>\n    <tr>\n      <th>4</th>\n      <td>5</td>\n      <td>23</td>\n      <td>2009-01-11 00:00:00</td>\n      <td>69 Salem Street</td>\n      <td>Boston</td>\n      <td>MA</td>\n      <td>USA</td>\n      <td>2113</td>\n      <td>13.86</td>\n    </tr>\n  </tbody>\n</table>\n</div>"
     },
     "execution_count": 3,
     "metadata": {},
     "output_type": "execute_result"
    }
   ],
   "source": [
    "invoices_data = pd.read_sql(\"SELECT *  from invoices\", con=connect)\n",
    "invoices_data.head()"
   ]
  },
  {
   "cell_type": "code",
   "execution_count": 4,
   "metadata": {
    "pycharm": {
     "name": "#%%\n"
    }
   },
   "outputs": [
    {
     "data": {
      "text/plain": "   EmployeeId  CustomerNum\n0           3           21\n1           4           20\n2           5           18",
      "text/html": "<div>\n<style scoped>\n    .dataframe tbody tr th:only-of-type {\n        vertical-align: middle;\n    }\n\n    .dataframe tbody tr th {\n        vertical-align: top;\n    }\n\n    .dataframe thead th {\n        text-align: right;\n    }\n</style>\n<table border=\"1\" class=\"dataframe\">\n  <thead>\n    <tr style=\"text-align: right;\">\n      <th></th>\n      <th>EmployeeId</th>\n      <th>CustomerNum</th>\n    </tr>\n  </thead>\n  <tbody>\n    <tr>\n      <th>0</th>\n      <td>3</td>\n      <td>21</td>\n    </tr>\n    <tr>\n      <th>1</th>\n      <td>4</td>\n      <td>20</td>\n    </tr>\n    <tr>\n      <th>2</th>\n      <td>5</td>\n      <td>18</td>\n    </tr>\n  </tbody>\n</table>\n</div>"
     },
     "execution_count": 4,
     "metadata": {},
     "output_type": "execute_result"
    }
   ],
   "source": [
    "#画图\n",
    "# 1、找出维护客户数量最多的员工ID为3\n",
    "employees_customers_data=pd.read_sql(\"select SupportRepId as EmployeeId,count(customers.CustomerId) as CustomerNum from customers group by customers.SupportRepId order by count(customers.CustomerId) DESC\", con=connect)\n",
    "employees_customers_data.head()\n"
   ]
  },
  {
   "cell_type": "code",
   "execution_count": 5,
   "metadata": {},
   "outputs": [
    {
     "data": {
      "text/plain": "<Figure size 432x288 with 1 Axes>",
      "image/png": "[encoded data removed]"
     },
     "metadata": {
      "needs_background": "light"
     },
     "output_type": "display_data"
    }
   ],
   "source": [
    "#表1的直方图展示\n",
    "plt.bar(employees_customers_data[\"EmployeeId\"],employees_customers_data[\"CustomerNum\"])\n",
    "plt.xlabel('EmployeeId')\n",
    "plt.ylabel('CustomerNum')\n",
    "plt.show()"
   ]
  },
  {
   "cell_type": "code",
   "execution_count": 6,
   "metadata": {
    "pycharm": {
     "name": "#%%\n"
    }
   },
   "outputs": [
    {
     "data": {
      "text/plain": "   CustomerId  SupportRepId  SUM(invoices.Total)\n0           6             5                49.62\n1          26             4                47.62\n2          57             5                46.62\n3          45             3                45.62\n4          46             3                45.62",
      "text/html": "<div>\n<style scoped>\n    .dataframe tbody tr th:only-of-type {\n        vertical-align: middle;\n    }\n\n    .dataframe tbody tr th {\n        vertical-align: top;\n    }\n\n    .dataframe thead th {\n        text-align: right;\n    }\n</style>\n<table border=\"1\" class=\"dataframe\">\n  <thead>\n    <tr style=\"text-align: right;\">\n      <th></th>\n      <th>CustomerId</th>\n      <th>SupportRepId</th>\n      <th>SUM(invoices.Total)</th>\n    </tr>\n  </thead>\n  <tbody>\n    <tr>\n      <th>0</th>\n      <td>6</td>\n      <td>5</td>\n      <td>49.62</td>\n    </tr>\n    <tr>\n      <th>1</th>\n      <td>26</td>\n      <td>4</td>\n      <td>47.62</td>\n    </tr>\n    <tr>\n      <th>2</th>\n      <td>57</td>\n      <td>5</td>\n      <td>46.62</td>\n    </tr>\n    <tr>\n      <th>3</th>\n      <td>45</td>\n      <td>3</td>\n      <td>45.62</td>\n    </tr>\n    <tr>\n      <th>4</th>\n      <td>46</td>\n      <td>3</td>\n      <td>45.62</td>\n    </tr>\n  </tbody>\n</table>\n</div>"
     },
     "execution_count": 6,
     "metadata": {},
     "output_type": "execute_result"
    }
   ],
   "source": [
    "# 2、invoice表\n",
    "#2.1每个客户对应的员工以及开出的发票总额\n",
    "customers_invoices_data=pd.read_sql(\"select customers.CustomerId,customers.SupportRepId,SUM(invoices.Total) from invoices left join customers on customers.CustomerId=invoices.CustomerId group by invoices.CustomerId order by SUM(Total) DESC\", con=connect)\n",
    "customers_invoices_data.head()"
   ]
  },
  {
   "cell_type": "code",
   "execution_count": 7,
   "metadata": {
    "pycharm": {
     "name": "#%%\n"
    }
   },
   "outputs": [
    {
     "data": {
      "text/plain": "   SupportRepId  InvoicesTotal\n0             3         833.04\n1             4         775.40\n2             5         720.16",
      "text/html": "<div>\n<style scoped>\n    .dataframe tbody tr th:only-of-type {\n        vertical-align: middle;\n    }\n\n    .dataframe tbody tr th {\n        vertical-align: top;\n    }\n\n    .dataframe thead th {\n        text-align: right;\n    }\n</style>\n<table border=\"1\" class=\"dataframe\">\n  <thead>\n    <tr style=\"text-align: right;\">\n      <th></th>\n      <th>SupportRepId</th>\n      <th>InvoicesTotal</th>\n    </tr>\n  </thead>\n  <tbody>\n    <tr>\n      <th>0</th>\n      <td>3</td>\n      <td>833.04</td>\n    </tr>\n    <tr>\n      <th>1</th>\n      <td>4</td>\n      <td>775.40</td>\n    </tr>\n    <tr>\n      <th>2</th>\n      <td>5</td>\n      <td>720.16</td>\n    </tr>\n  </tbody>\n</table>\n</div>"
     },
     "execution_count": 7,
     "metadata": {},
     "output_type": "execute_result"
    }
   ],
   "source": [
    "#2.2员工对应的顾客所能开出的发票总额\n",
    "employee_customers_total_data=pd.read_sql(\"select customers.SupportRepId,SUM(invoices.Total) as InvoicesTotal from invoices left join customers on customers.CustomerId=invoices.CustomerId group by customers.SupportRepId order by SUM(Total) DESC\", con=connect)\n",
    "employee_customers_total_data.head()"
   ]
  },
  {
   "cell_type": "code",
   "execution_count": 8,
   "metadata": {},
   "outputs": [
    {
     "data": {
      "text/plain": "<Figure size 432x288 with 1 Axes>",
      "image/png": "[encoded data removed]"
     },
     "metadata": {
      "needs_background": "light"
     },
     "output_type": "display_data"
    }
   ],
   "source": [
    "#表2.2的直方图展示\n",
    "plt.bar(employee_customers_total_data[\"SupportRepId\"],employee_customers_total_data[\"InvoicesTotal\"])\n",
    "plt.xlabel('EmployeeId')\n",
    "plt.ylabel('InvoicesTotal')\n",
    "plt.show()"
   ]
  },
  {
   "cell_type": "code",
   "execution_count": 9,
   "metadata": {
    "pycharm": {
     "name": "#%%\n"
    }
   },
   "outputs": [
    {
     "data": {
      "text/plain": "   EmployeeId            BirthDate  age             HireDate  \\\n0           3  1973-08-29 00:00:00   48  2002-04-01 00:00:00   \n1           5  1965-03-03 00:00:00   56  2003-10-17 00:00:00   \n2           4  1947-09-19 00:00:00   74  2003-05-03 00:00:00   \n\n   SUM(invoices.Total)  \n0               833.04  \n1               720.16  \n2               775.40  ",
      "text/html": "<div>\n<style scoped>\n    .dataframe tbody tr th:only-of-type {\n        vertical-align: middle;\n    }\n\n    .dataframe tbody tr th {\n        vertical-align: top;\n    }\n\n    .dataframe thead th {\n        text-align: right;\n    }\n</style>\n<table border=\"1\" class=\"dataframe\">\n  <thead>\n    <tr style=\"text-align: right;\">\n      <th></th>\n      <th>EmployeeId</th>\n      <th>BirthDate</th>\n      <th>age</th>\n      <th>HireDate</th>\n      <th>SUM(invoices.Total)</th>\n    </tr>\n  </thead>\n  <tbody>\n    <tr>\n      <th>0</th>\n      <td>3</td>\n      <td>1973-08-29 00:00:00</td>\n      <td>48</td>\n      <td>2002-04-01 00:00:00</td>\n      <td>833.04</td>\n    </tr>\n    <tr>\n      <th>1</th>\n      <td>5</td>\n      <td>1965-03-03 00:00:00</td>\n      <td>56</td>\n      <td>2003-10-17 00:00:00</td>\n      <td>720.16</td>\n    </tr>\n    <tr>\n      <th>2</th>\n      <td>4</td>\n      <td>1947-09-19 00:00:00</td>\n      <td>74</td>\n      <td>2003-05-03 00:00:00</td>\n      <td>775.40</td>\n    </tr>\n  </tbody>\n</table>\n</div>"
     },
     "execution_count": 9,
     "metadata": {},
     "output_type": "execute_result"
    }
   ],
   "source": [
    "# 3、员工出生日期及雇佣年限展示，可以看出最年轻的员工销售额最高，雇佣年限最长，可作为晋升候选人\n",
    "# employee_birthdate_hiredate=pd.read_sql(\"select employees.EmployeeId,employees.BirthDate,employees.HireDate,SUM(invoices.Total) from invoices left join customers on customers.CustomerId=invoices.CustomerId left join employees on employees.EmployeeId=customers.SupportRepId group by customers.SupportRepId order by employees.BirthDate DESC\",con=connect)\n",
    "employee_birthdate_hiredate=pd.read_sql(\"select employees.EmployeeId,employees.BirthDate,2021-employees.BirthDate as age,employees.HireDate,SUM(invoices.Total) from invoices left join customers on customers.CustomerId=invoices.CustomerId left join employees on employees.EmployeeId=customers.SupportRepId group by customers.SupportRepId order by age ASC\",con=connect)\n",
    "employee_birthdate_hiredate.head()"
   ]
  },
  {
   "cell_type": "code",
   "execution_count": 10,
   "metadata": {},
   "outputs": [
    {
     "data": {
      "text/plain": "<Figure size 432x288 with 1 Axes>",
      "image/png": "[encoded data removed]"
     },
     "metadata": {
      "needs_background": "light"
     },
     "output_type": "display_data"
    }
   ],
   "source": [
    "#表3的直方图展示\n",
    "plt.bar(employee_birthdate_hiredate[\"EmployeeId\"],employee_birthdate_hiredate[\"age\"])\n",
    "plt.xlabel('EmployeeId')\n",
    "plt.ylabel('age')\n",
    "plt.show()"
   ]
  },
  {
   "cell_type": "code",
   "execution_count": 10,
   "metadata": {},
   "outputs": [],
   "source": []
  }
 ],
 "metadata": {
  "kernelspec": {
   "display_name": "Python 3",
   "language": "python",
   "name": "python3"
  },
  "language_info": {
   "codemirror_mode": {
    "name": "ipython",
    "version": 3
   },
   "file_extension": ".py",
   "mimetype": "text/x-python",
   "name": "python",
   "nbconvert_exporter": "python",
   "pygments_lexer": "ipython3",
   "version": "3.6.4"
  }
 },
 "nbformat": 4,
 "nbformat_minor": 1
}